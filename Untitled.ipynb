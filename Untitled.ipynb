{
 "cells": [
  {
   "cell_type": "code",
   "execution_count": 16,
   "id": "0bdc6ba5-e253-43a2-9b66-d0ca788a77cc",
   "metadata": {},
   "outputs": [],
   "source": [
    "import pandas as pd\n",
    "import re\n"
   ]
  },
  {
   "cell_type": "code",
   "execution_count": 17,
   "id": "3364ef2a-db57-4bde-b371-5c15696c5389",
   "metadata": {},
   "outputs": [],
   "source": [
    "\n",
    "train_df = pd.read_csv(\"twitter_training.csv\")\n",
    "validation_df = pd.read_csv(\"twitter_validation.csv\")\n"
   ]
  },
  {
   "cell_type": "code",
   "execution_count": 18,
   "id": "aaee54d2-7ad0-4017-a702-be953e223084",
   "metadata": {},
   "outputs": [],
   "source": [
    "def preprocess_text(text):\n",
    "    if isinstance(text, str):  \n",
    "        text = text.lower()\n",
    "        text = re.sub(r'http\\S+', '', text)\n",
    "        text = re.sub(r'[^a-zA-Z\\s]', '', text)\n",
    "        text = re.sub(r'\\s+', ' ', text).strip()\n",
    "        return text\n",
    "    else:\n",
    "        return ''  "
   ]
  },
  {
   "cell_type": "code",
   "execution_count": 19,
   "id": "346fcba1-e2b3-4886-8756-36fb0d8c5a7f",
   "metadata": {},
   "outputs": [],
   "source": [
    "train_df['clean_tweet'] = train_df.iloc[:, 3].apply(preprocess_text)\n",
    "validation_df['clean_tweet'] = validation_df.iloc[:, 3].apply(preprocess_text)\n"
   ]
  },
  {
   "cell_type": "code",
   "execution_count": 22,
   "id": "fabbdd52-a991-44a5-b592-5cdc1023007f",
   "metadata": {},
   "outputs": [
    {
     "name": "stdout",
     "output_type": "stream",
     "text": [
      "Training Set:\n",
      "   2401  Borderlands  Positive  \\\n",
      "0  2401  Borderlands  Positive   \n",
      "1  2401  Borderlands  Positive   \n",
      "2  2401  Borderlands  Positive   \n",
      "3  2401  Borderlands  Positive   \n",
      "4  2401  Borderlands  Positive   \n",
      "\n",
      "  im getting on borderlands and i will murder you all ,  \\\n",
      "0  I am coming to the borders and I will kill you...      \n",
      "1  im getting on borderlands and i will kill you ...      \n",
      "2  im coming on borderlands and i will murder you...      \n",
      "3  im getting on borderlands 2 and i will murder ...      \n",
      "4  im getting into borderlands and i can murder y...      \n",
      "\n",
      "                                         clean_tweet  \n",
      "0  i am coming to the borders and i will kill you...  \n",
      "1  im getting on borderlands and i will kill you all  \n",
      "2  im coming on borderlands and i will murder you...  \n",
      "3  im getting on borderlands and i will murder yo...  \n",
      "4  im getting into borderlands and i can murder y...  \n"
     ]
    }
   ],
   "source": [
    "print(\"Training Set:\")\n",
    "print(train_df.head())\n"
   ]
  },
  {
   "cell_type": "code",
   "execution_count": 21,
   "id": "769e741b-bee1-4571-bf64-6189bb183aaa",
   "metadata": {},
   "outputs": [
    {
     "name": "stdout",
     "output_type": "stream",
     "text": [
      "   3364   Facebook Irrelevant  \\\n",
      "0   352     Amazon    Neutral   \n",
      "1  8312  Microsoft   Negative   \n",
      "2  4371      CS-GO   Negative   \n",
      "3  4433     Google    Neutral   \n",
      "4  6273       FIFA   Negative   \n",
      "\n",
      "  I mentioned on Facebook that I was struggling for motivation to go for a run the other day, which has been translated by Tom’s great auntie as ‘Hayley can’t get out of bed’ and told to his grandma, who now thinks I’m a lazy, terrible person 🤣  \\\n",
      "0  BBC News - Amazon boss Jeff Bezos rejects clai...                                                                                                                                                                                                   \n",
      "1  @Microsoft Why do I pay for WORD when it funct...                                                                                                                                                                                                   \n",
      "2  CSGO matchmaking is so full of closet hacking,...                                                                                                                                                                                                   \n",
      "3  Now the President is slapping Americans in the...                                                                                                                                                                                                   \n",
      "4  Hi @EAHelp I’ve had Madeleine McCann in my cel...                                                                                                                                                                                                   \n",
      "\n",
      "                                         clean_tweet  \n",
      "0  bbc news amazon boss jeff bezos rejects claims...  \n",
      "1  microsoft why do i pay for word when it functi...  \n",
      "2  csgo matchmaking is so full of closet hacking ...  \n",
      "3  now the president is slapping americans in the...  \n",
      "4  hi eahelp ive had madeleine mccann in my cella...  \n"
     ]
    }
   ],
   "source": [
    "print(validation_df.head())"
   ]
  },
  {
   "cell_type": "code",
   "execution_count": 23,
   "id": "11214fa0-204b-4489-b82e-434389b5c279",
   "metadata": {},
   "outputs": [
    {
     "name": "stdout",
     "output_type": "stream",
     "text": [
      "Validation Set:\n",
      "   3364   Facebook Irrelevant  \\\n",
      "0   352     Amazon    Neutral   \n",
      "1  8312  Microsoft   Negative   \n",
      "2  4371      CS-GO   Negative   \n",
      "3  4433     Google    Neutral   \n",
      "4  6273       FIFA   Negative   \n",
      "\n",
      "  I mentioned on Facebook that I was struggling for motivation to go for a run the other day, which has been translated by Tom’s great auntie as ‘Hayley can’t get out of bed’ and told to his grandma, who now thinks I’m a lazy, terrible person 🤣  \\\n",
      "0  BBC News - Amazon boss Jeff Bezos rejects clai...                                                                                                                                                                                                   \n",
      "1  @Microsoft Why do I pay for WORD when it funct...                                                                                                                                                                                                   \n",
      "2  CSGO matchmaking is so full of closet hacking,...                                                                                                                                                                                                   \n",
      "3  Now the President is slapping Americans in the...                                                                                                                                                                                                   \n",
      "4  Hi @EAHelp I’ve had Madeleine McCann in my cel...                                                                                                                                                                                                   \n",
      "\n",
      "                                         clean_tweet  \n",
      "0  bbc news amazon boss jeff bezos rejects claims...  \n",
      "1  microsoft why do i pay for word when it functi...  \n",
      "2  csgo matchmaking is so full of closet hacking ...  \n",
      "3  now the president is slapping americans in the...  \n",
      "4  hi eahelp ive had madeleine mccann in my cella...  \n"
     ]
    }
   ],
   "source": [
    "print(\"Validation Set:\")\n",
    "print(validation_df.head())"
   ]
  },
  {
   "cell_type": "code",
   "execution_count": 26,
   "id": "94501e43-869f-4976-aa31-eb8d64e1256e",
   "metadata": {},
   "outputs": [
    {
     "name": "stdout",
     "output_type": "stream",
     "text": [
      "Index(['2401', 'Borderlands', 'Positive',\n",
      "       'im getting on borderlands and i will murder you all ,', 'clean_tweet'],\n",
      "      dtype='object')\n"
     ]
    }
   ],
   "source": [
    "print(train_df.columns)\n"
   ]
  },
  {
   "cell_type": "code",
   "execution_count": 28,
   "id": "defabc85-8c2e-4588-96e6-abce0d48ee43",
   "metadata": {},
   "outputs": [
    {
     "data": {
      "image/png": "[encoded data removed]",
      "text/plain": [
       "<Figure size 640x480 with 1 Axes>"
      ]
     },
     "metadata": {},
     "output_type": "display_data"
    }
   ],
   "source": [
    "import matplotlib.pyplot as plt\n",
    "class_distribution = train_df.iloc[:, 2].value_counts()\n",
    "plt.pie(class_distribution, labels=class_distribution.index, startangle=140)\n",
    "plt.title('Sentiment Pie Chart')\n",
    "plt.show()\n"
   ]
  },
  {
   "cell_type": "code",
   "execution_count": null,
   "id": "18dc3cf1-c532-4952-8f4d-d3d480513df4",
   "metadata": {},
   "outputs": [],
   "source": []
  }
 ],
 "metadata": {
  "kernelspec": {
   "display_name": "Python 3 (ipykernel)",
   "language": "python",
   "name": "python3"
  },
  "language_info": {
   "codemirror_mode": {
    "name": "ipython",
    "version": 3
   },
   "file_extension": ".py",
   "mimetype": "text/x-python",
   "name": "python",
   "nbconvert_exporter": "python",
   "pygments_lexer": "ipython3",
   "version": "3.12.2"
  }
 },
 "nbformat": 4,
 "nbformat_minor": 5
}
