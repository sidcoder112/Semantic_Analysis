{
 "cells": [
  {
   "cell_type": "code",
   "execution_count": 1,
   "id": "0bdc6ba5-e253-43a2-9b66-d0ca788a77cc",
   "metadata": {},
   "outputs": [
    {
     "ename": "NameError",
     "evalue": "name 'sadasa' is not defined",
     "output_type": "error",
     "traceback": [
      "\u001b[1;31m---------------------------------------------------------------------------\u001b[0m",
      "\u001b[1;31mNameError\u001b[0m                                 Traceback (most recent call last)",
      "Cell \u001b[1;32mIn[1], line 1\u001b[0m\n\u001b[1;32m----> 1\u001b[0m \u001b[43msadasa\u001b[49m\n",
      "\u001b[1;31mNameError\u001b[0m: name 'sadasa' is not defined"
     ]
    }
   ],
   "source": [
    "sadasa"
   ]
  },
  {
   "cell_type": "code",
   "execution_count": null,
   "id": "3364ef2a-db57-4bde-b371-5c15696c5389",
   "metadata": {},
   "outputs": [],
   "source": []
  }
 ],
 "metadata": {
  "kernelspec": {
   "display_name": "Python 3 (ipykernel)",
   "language": "python",
   "name": "python3"
  },
  "language_info": {
   "codemirror_mode": {
    "name": "ipython",
    "version": 3
   },
   "file_extension": ".py",
   "mimetype": "text/x-python",
   "name": "python",
   "nbconvert_exporter": "python",
   "pygments_lexer": "ipython3",
   "version": "3.12.2"
  }
 },
 "nbformat": 4,
 "nbformat_minor": 5
}
